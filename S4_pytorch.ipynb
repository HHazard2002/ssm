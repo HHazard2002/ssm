{
 "cells": [
  {
   "cell_type": "markdown",
   "metadata": {},
   "source": [
    "S4 implementation using PyTorch to train on the MINST dataset."
   ]
  },
  {
   "cell_type": "code",
   "execution_count": 10,
   "metadata": {},
   "outputs": [],
   "source": [
    "import torch\n",
    "import torch.nn as nn\n",
    "import torch.nn.functional as F\n",
    "from torchvision import datasets, transforms\n",
    "from torch.utils.data import DataLoader"
   ]
  },
  {
   "cell_type": "code",
   "execution_count": 23,
   "metadata": {},
   "outputs": [],
   "source": [
    "class S4Layer(nn.Module):\n",
    "    def __init__(self, input_size, hidden_size):\n",
    "        super(S4Layer, self).__init__()\n",
    "        self.hidden_size = hidden_size\n",
    "\n",
    "        self.A = nn.Parameter(torch.randn(hidden_size, hidden_size) * 0.1)  # Transition matrix\n",
    "        self.B = nn.Parameter(torch.randn(hidden_size, input_size) * 0.1)   # Input matrix\n",
    "        self.C = nn.Parameter(torch.randn(hidden_size, hidden_size) * 0.1) # Output matrix\n",
    "        self.D = nn.Parameter(torch.randn(input_size, hidden_size) * 0.1)  # Direct term\n",
    "\n",
    "    def forward(self, x):\n",
    "        batch_size, seq_len, input_size = x.size()\n",
    "        h = torch.zeros(batch_size, self.hidden_size, device=x.device)\n",
    "        \n",
    "        outputs = []\n",
    "        for t in range(seq_len):\n",
    "            u_t = x[:, t, :]  # Input at time t: (batch_size, input_size)\n",
    "            h = torch.tanh(h @ self.A.T + u_t @ self.B.T)\n",
    "            y = h @ self.C.T + u_t @ self.D\n",
    "            outputs.append(y.unsqueeze(1))\n",
    "\n",
    "        return torch.cat(outputs, dim=1)\n"
   ]
  },
  {
   "cell_type": "code",
   "execution_count": 26,
   "metadata": {},
   "outputs": [],
   "source": [
    "class S4Classifier(nn.Module):\n",
    "    def __init__(self, input_size, hidden_size, num_classes):\n",
    "        super(S4Classifier, self).__init__()\n",
    "        self.s4_layer = S4Layer(input_size, hidden_size)\n",
    "        self.fc = nn.Linear(hidden_size, num_classes)\n",
    "        \n",
    "    def forward(self, x):\n",
    "        x = self.s4_layer(x)\n",
    "        x = x[:, -1, :]\n",
    "        x = self.fc(x)\n",
    "        return x\n",
    "\n"
   ]
  },
  {
   "cell_type": "code",
   "execution_count": 34,
   "metadata": {},
   "outputs": [],
   "source": [
    "\n",
    "transform = transforms.Compose([\n",
    "    transforms.ToTensor(),\n",
    "    transforms.Normalize((0.5,), (0.5,))\n",
    "])\n",
    "train_dataset = datasets.MNIST(root='./data', train=True, transform=transform, download=True)\n",
    "test_dataset = datasets.MNIST(root='./data', train=False, transform=transform, download=True)\n",
    "\n",
    "train_loader = DataLoader(train_dataset, batch_size=256, shuffle=True)\n",
    "test_loader = DataLoader(test_dataset, batch_size=256, shuffle=False)\n"
   ]
  },
  {
   "cell_type": "code",
   "execution_count": null,
   "metadata": {},
   "outputs": [
    {
     "name": "stdout",
     "output_type": "stream",
     "text": [
      "Epoch [1/5], Loss: 0.3586\n",
      "Epoch [2/5], Loss: 0.3275\n",
      "Epoch [3/5], Loss: 0.1513\n",
      "Epoch [4/5], Loss: 0.1352\n",
      "Epoch [5/5], Loss: 0.1489\n",
      "Epoch [6/5], Loss: 0.1166\n",
      "Epoch [7/5], Loss: 0.2430\n",
      "Epoch [8/5], Loss: 0.1188\n",
      "Epoch [9/5], Loss: 0.0581\n",
      "Epoch [10/5], Loss: 0.0534\n"
     ]
    }
   ],
   "source": [
    "device = torch.device('cuda' if torch.cuda.is_available() else 'cpu')\n",
    "\n",
    "model = S4Classifier(input_size=28, hidden_size=128, num_classes=10).to(device)\n",
    "criterion = nn.CrossEntropyLoss()\n",
    "optimiser = torch.optim.Adam(model.parameters(), lr=0.0005)\n",
    "\n",
    "for epoch in range(10):  # Train for 5 epochs\n",
    "    model.train()\n",
    "    for images, labels in train_loader:\n",
    "        # Reshape images to sequences of length 28\n",
    "        images = images.squeeze(1).transpose(1, 2).to(device)  # (batch_size, seq_len, input_size)\n",
    "        labels = labels.to(device)\n",
    "        \n",
    "        # Forward pass\n",
    "        outputs = model(images)\n",
    "        loss = criterion(outputs, labels)\n",
    "        \n",
    "        # Backward pass\n",
    "        optimiser.zero_grad()\n",
    "        loss.backward()\n",
    "        optimiser.step()\n",
    "    \n",
    "    print(f'Epoch [{epoch+1}/5], Loss: {loss.item():.4f}')\n"
   ]
  },
  {
   "cell_type": "code",
   "execution_count": 36,
   "metadata": {},
   "outputs": [
    {
     "name": "stdout",
     "output_type": "stream",
     "text": [
      "Test Accuracy: 96.68%\n"
     ]
    }
   ],
   "source": [
    "model.eval()\n",
    "correct = 0\n",
    "total = 0\n",
    "with torch.no_grad():\n",
    "    for images, labels in test_loader:\n",
    "        images = images.squeeze(1).transpose(1, 2).to(device)\n",
    "        labels = labels.to(device)\n",
    "        \n",
    "        outputs = model(images)\n",
    "        _, predicted = torch.max(outputs, 1)\n",
    "        total += labels.size(0)\n",
    "        correct += (predicted == labels).sum().item()\n",
    "\n",
    "print(f'Test Accuracy: {100 * correct / total:.2f}%')\n"
   ]
  },
  {
   "cell_type": "code",
   "execution_count": 21,
   "metadata": {},
   "outputs": [],
   "source": [
    "for images, labels in train_loader:\n",
    "    images = images.squeeze(1).transpose(1, 2).to(device)\n",
    "    labels = labels.to(device)"
   ]
  }
 ],
 "metadata": {
  "kernelspec": {
   "display_name": "Python 3",
   "language": "python",
   "name": "python3"
  },
  "language_info": {
   "codemirror_mode": {
    "name": "ipython",
    "version": 3
   },
   "file_extension": ".py",
   "mimetype": "text/x-python",
   "name": "python",
   "nbconvert_exporter": "python",
   "pygments_lexer": "ipython3",
   "version": "3.9.6"
  }
 },
 "nbformat": 4,
 "nbformat_minor": 2
}
